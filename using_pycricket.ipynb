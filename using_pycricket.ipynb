{
 "cells": [
  {
   "cell_type": "code",
   "execution_count": 1,
   "metadata": {},
   "outputs": [],
   "source": [
    "#!pip3 install pycricbuzz"
   ]
  },
  {
   "cell_type": "code",
   "execution_count": 2,
   "metadata": {
    "collapsed": true
   },
   "outputs": [],
   "source": [
    "import matplotlib.pyplot as plt"
   ]
  },
  {
   "cell_type": "code",
   "execution_count": 3,
   "metadata": {
    "collapsed": true
   },
   "outputs": [],
   "source": [
    "from pycricbuzz import Cricbuzz\n",
    "c = Cricbuzz()"
   ]
  },
  {
   "cell_type": "code",
   "execution_count": 4,
   "metadata": {},
   "outputs": [
    {
     "data": {
      "text/plain": [
       "'20245'"
      ]
     },
     "execution_count": 4,
     "metadata": {},
     "output_type": "execute_result"
    }
   ],
   "source": [
    "lst_teams=[]\n",
    "match_id=c.matches()[0]['id'] #extracting the match id\n",
    "match_id"
   ]
  },
  {
   "cell_type": "code",
   "execution_count": 5,
   "metadata": {},
   "outputs": [
    {
     "data": {
      "text/plain": [
       "'inprogress'"
      ]
     },
     "execution_count": 5,
     "metadata": {},
     "output_type": "execute_result"
    }
   ],
   "source": [
    "c.matchinfo(match_id)\n",
    "mchstate = c.matchinfo(match_id)['mchstate']   #match state whether in progress\n",
    "mchstate"
   ]
  },
  {
   "cell_type": "code",
   "execution_count": 6,
   "metadata": {},
   "outputs": [
    {
     "data": {
      "text/plain": [
       "'ICC Cricket World Cup 2019'"
      ]
     },
     "execution_count": 6,
     "metadata": {},
     "output_type": "execute_result"
    }
   ],
   "source": [
    "match_name = c.matchinfo(match_id)['srs']  # match name world cup or any other\n",
    "match_name"
   ]
  },
  {
   "cell_type": "code",
   "execution_count": 7,
   "metadata": {},
   "outputs": [
    {
     "data": {
      "text/plain": [
       "'Bangladesh'"
      ]
     },
     "execution_count": 7,
     "metadata": {},
     "output_type": "execute_result"
    }
   ],
   "source": [
    "team1_name = c.matchinfo(match_id)['team1']['name']\n",
    "lst_teams.append(c.matchinfo(match_id)['team1']['name'])   # team1 append to the list\n",
    "c.matchinfo(match_id)['team1']['name']"
   ]
  },
  {
   "cell_type": "code",
   "execution_count": 8,
   "metadata": {},
   "outputs": [
    {
     "data": {
      "text/plain": [
       "'New Zealand'"
      ]
     },
     "execution_count": 8,
     "metadata": {},
     "output_type": "execute_result"
    }
   ],
   "source": [
    "team2_name = c.matchinfo(match_id)['team2']['name']\n",
    "lst_teams.append(c.matchinfo(match_id)['team2']['name'])   # team2 append to the list\n",
    "c.matchinfo(match_id)['team2']['name']"
   ]
  },
  {
   "cell_type": "code",
   "execution_count": 9,
   "metadata": {},
   "outputs": [
    {
     "data": {
      "text/plain": [
       "['Bangladesh', 'New Zealand']"
      ]
     },
     "execution_count": 9,
     "metadata": {},
     "output_type": "execute_result"
    }
   ],
   "source": [
    "lst_teams     # list of teams currently playing the match"
   ]
  },
  {
   "cell_type": "code",
   "execution_count": 10,
   "metadata": {},
   "outputs": [],
   "source": [
    "#c.commentary(match_id)   #this features will be used in future"
   ]
  },
  {
   "cell_type": "code",
   "execution_count": 28,
   "metadata": {},
   "outputs": [
    {
     "data": {
      "text/plain": [
       "'Ross Taylor score now is 71'"
      ]
     },
     "execution_count": 28,
     "metadata": {},
     "output_type": "execute_result"
    }
   ],
   "source": [
    "batsman1=c.livescore(match_id)['batting']['batsman'][0]['name']\n",
    "batsman1_runs=c.livescore(match_id)['batting']['batsman'][0]['runs']\n",
    "batsman1 +\" score now is \" + batsman1_runs      # batsman1 currently playing "
   ]
  },
  {
   "cell_type": "code",
   "execution_count": 27,
   "metadata": {},
   "outputs": [
    {
     "data": {
      "text/plain": [
       "'Neesham score now is 0'"
      ]
     },
     "execution_count": 27,
     "metadata": {},
     "output_type": "execute_result"
    }
   ],
   "source": [
    "batsman2=c.livescore(match_id)['batting']['batsman'][1]['name']\n",
    "batsman2_runs=c.livescore(match_id)['batting']['batsman'][1]['runs']\n",
    "batsman2 +\" score now is \" + batsman2_runs    # batsman2 currently playing "
   ]
  },
  {
   "cell_type": "code",
   "execution_count": 13,
   "metadata": {},
   "outputs": [],
   "source": [
    "bat_team_run=c.livescore(match_id)['batting']['score'][0]['runs']   #batting team runs\n",
    "bat_team_wicket=c.livescore(match_id)['batting']['score'][0]['wickets']   #batting team wickets till now"
   ]
  },
  {
   "cell_type": "code",
   "execution_count": 14,
   "metadata": {},
   "outputs": [
    {
     "data": {
      "text/plain": [
       "'161/3'"
      ]
     },
     "execution_count": 14,
     "metadata": {},
     "output_type": "execute_result"
    }
   ],
   "source": [
    "bat_team_tot_score = bat_team_run + \"/\" + bat_team_wicket    # batting team total info till now\n",
    "bat_team_tot_score"
   ]
  },
  {
   "cell_type": "code",
   "execution_count": 15,
   "metadata": {
    "collapsed": true
   },
   "outputs": [],
   "source": [
    "bowl_team_run=c.livescore(match_id)['bowling']['score'][0]['runs']     #bowling team runs\n",
    "bowl_team_wicket=c.livescore(match_id)['bowling']['score'][0]['wickets']   #bowling teams wicket"
   ]
  },
  {
   "cell_type": "code",
   "execution_count": 16,
   "metadata": {},
   "outputs": [
    {
     "data": {
      "text/plain": [
       "'244 runs with 10 wickets'"
      ]
     },
     "execution_count": 16,
     "metadata": {},
     "output_type": "execute_result"
    }
   ],
   "source": [
    "bowl_team_tot_score = bowl_team_run + \" runs with \" + bowl_team_wicket + \" wickets\"  #bowling team total info\n",
    "bowl_team_tot_score"
   ]
  },
  {
   "cell_type": "code",
   "execution_count": 17,
   "metadata": {},
   "outputs": [],
   "source": [
    "#plt.bar(bat_team_run,bowl_team_run)\n",
    "#plt.show()"
   ]
  },
  {
   "cell_type": "code",
   "execution_count": 18,
   "metadata": {},
   "outputs": [
    {
     "data": {
      "text/plain": [
       "{'batting': {'batsman': [{'balls': '67',\n",
       "    'fours': '8',\n",
       "    'name': 'Ross Taylor',\n",
       "    'runs': '69',\n",
       "    'six': '0'},\n",
       "   {'balls': '0', 'fours': '0', 'name': 'Latham', 'runs': '0', 'six': '0'}],\n",
       "  'score': [{'declare': None,\n",
       "    'inning_num': '2',\n",
       "    'overs': '31.1',\n",
       "    'runs': '161',\n",
       "    'wickets': '3'}],\n",
       "  'team': 'New Zealand'},\n",
       " 'bowling': {'bowler': [{'maidens': '0',\n",
       "    'name': 'Mehidy Hasan',\n",
       "    'overs': '6.1',\n",
       "    'runs': '33',\n",
       "    'wickets': '1'}],\n",
       "  'score': [{'declare': None,\n",
       "    'inning_num': '1',\n",
       "    'overs': '49.2',\n",
       "    'runs': '244',\n",
       "    'wickets': '10'}],\n",
       "  'team': 'Bangladesh'}}"
      ]
     },
     "execution_count": 18,
     "metadata": {},
     "output_type": "execute_result"
    }
   ],
   "source": [
    "c.livescore(match_id)"
   ]
  },
  {
   "cell_type": "code",
   "execution_count": 19,
   "metadata": {},
   "outputs": [
    {
     "data": {
      "text/plain": [
       "['Tamim',\n",
       " 'Soumya Sarkar',\n",
       " 'Shakib',\n",
       " 'Rahim',\n",
       " 'Mithun',\n",
       " 'Mahmudullah',\n",
       " 'Mosaddek Hossain',\n",
       " 'Mehidy Hasan',\n",
       " 'Saifuddin',\n",
       " 'Mortaza',\n",
       " 'Mustafizur']"
      ]
     },
     "execution_count": 19,
     "metadata": {},
     "output_type": "execute_result"
    }
   ],
   "source": [
    "team1_players=c.matchinfo(match_id)['team1']['squad']        #team1 players name list\n",
    "team1_players\n",
    "dict_team1 = { team1_name : team1_players}   #team1 name with their players in list is contained in dictionary\n",
    "dict_team1[team1_name]"
   ]
  },
  {
   "cell_type": "code",
   "execution_count": 20,
   "metadata": {},
   "outputs": [
    {
     "data": {
      "text/plain": [
       "['Guptill',\n",
       " 'Munro',\n",
       " 'Williamson',\n",
       " 'Ross Taylor',\n",
       " 'Latham',\n",
       " 'Neesham',\n",
       " 'de Grandhomme',\n",
       " 'Santner',\n",
       " 'Matt Henry',\n",
       " 'Ferguson',\n",
       " 'Boult']"
      ]
     },
     "execution_count": 20,
     "metadata": {},
     "output_type": "execute_result"
    }
   ],
   "source": [
    "team2_players=c.matchinfo(match_id)['team2']['squad']   #team2 players namelist\n",
    "team2_players\n",
    "dict_team2 = { team2_name : team2_players}       #team2 name with their players in list is contained in dictionary\n",
    "dict_team2[team2_name]"
   ]
  },
  {
   "cell_type": "code",
   "execution_count": 21,
   "metadata": {},
   "outputs": [
    {
     "name": "stdout",
     "output_type": "stream",
     "text": [
      "Currently batting team: New Zealand\n",
      "Score - 161/3\n"
     ]
    }
   ],
   "source": [
    "# who is batting and who is bowling\n",
    "if batsman1 in dict_team1[team1_name]:\n",
    "    current_bat = team1_name\n",
    "else:\n",
    "    current_bat = team2_name\n",
    "\n",
    "print(\"Currently batting team:\",current_bat)\n",
    "print('Score -',bat_team_tot_score)"
   ]
  },
  {
   "cell_type": "code",
   "execution_count": 22,
   "metadata": {},
   "outputs": [
    {
     "data": {
      "text/plain": [
       "{'id': '20245',\n",
       " 'mchstate': 'inprogress',\n",
       " 'mnum': 'Match 9',\n",
       " 'official': {'referee': {'country': 'AUS',\n",
       "   'id': '4702',\n",
       "   'name': 'David Boon'},\n",
       "  'umpire1': {'country': 'AUS', 'id': '4730', 'name': 'Paul Reiffel'},\n",
       "  'umpire2': {'country': 'AUS', 'id': '6841', 'name': 'Bruce Oxenford'},\n",
       "  'umpire3': {'country': 'WI', 'id': '7931', 'name': 'Joel Wilson'}},\n",
       " 'srs': 'ICC Cricket World Cup 2019',\n",
       " 'start_time': '2019-06-05 18:00:00',\n",
       " 'status': 'NZ need 85 runs',\n",
       " 'team1': {'name': 'Bangladesh',\n",
       "  'squad': ['Tamim',\n",
       "   'Soumya Sarkar',\n",
       "   'Shakib',\n",
       "   'Rahim',\n",
       "   'Mithun',\n",
       "   'Mahmudullah',\n",
       "   'Mosaddek Hossain',\n",
       "   'Mehidy Hasan',\n",
       "   'Saifuddin',\n",
       "   'Mortaza',\n",
       "   'Mustafizur'],\n",
       "  'squad_bench': ['Liton Das', 'Sabbir Rahman', 'Rubel', 'Abu Jayed']},\n",
       " 'team2': {'name': 'New Zealand',\n",
       "  'squad': ['Guptill',\n",
       "   'Munro',\n",
       "   'Williamson',\n",
       "   'Ross Taylor',\n",
       "   'Latham',\n",
       "   'Neesham',\n",
       "   'de Grandhomme',\n",
       "   'Santner',\n",
       "   'Matt Henry',\n",
       "   'Ferguson',\n",
       "   'Boult'],\n",
       "  'squad_bench': ['Tom Blundell', 'Henry Nicholls', 'Southee', 'Ish Sodhi']},\n",
       " 'toss': 'New Zealand elect to bowl',\n",
       " 'type': 'ODI',\n",
       " 'venue_location': 'London, England',\n",
       " 'venue_name': 'Kennington Oval'}"
      ]
     },
     "execution_count": 22,
     "metadata": {},
     "output_type": "execute_result"
    }
   ],
   "source": [
    "c.matchinfo(match_id)"
   ]
  },
  {
   "cell_type": "code",
   "execution_count": 23,
   "metadata": {
    "scrolled": false
   },
   "outputs": [
    {
     "data": {
      "text/plain": [
       "{'scorecard': [{'batcard': [{'balls': '14',\n",
       "     'dismissal': 'c Tamim b Shakib',\n",
       "     'fours': '3',\n",
       "     'name': 'Guptill',\n",
       "     'runs': '25',\n",
       "     'six': '1'},\n",
       "    {'balls': '34',\n",
       "     'dismissal': 'c Mehidy Hasan b Shakib',\n",
       "     'fours': '3',\n",
       "     'name': 'Munro',\n",
       "     'runs': '24',\n",
       "     'six': '1'},\n",
       "    {'balls': '72',\n",
       "     'dismissal': 'c Mosaddek Hossain b Mehidy Hasan',\n",
       "     'fours': '1',\n",
       "     'name': 'Williamson',\n",
       "     'runs': '40',\n",
       "     'six': '0'},\n",
       "    {'balls': '67',\n",
       "     'dismissal': 'batting',\n",
       "     'fours': '8',\n",
       "     'name': 'Ross Taylor',\n",
       "     'runs': '69',\n",
       "     'six': '0'},\n",
       "    {'balls': '0',\n",
       "     'dismissal': 'batting',\n",
       "     'fours': '0',\n",
       "     'name': 'Latham',\n",
       "     'runs': '0',\n",
       "     'six': '0'}],\n",
       "   'batteam': 'New Zealand',\n",
       "   'bowlcard': [{'maidens': '0',\n",
       "     'name': 'Mortaza',\n",
       "     'nballs': '0',\n",
       "     'overs': '4',\n",
       "     'runs': '25',\n",
       "     'wickets': '0',\n",
       "     'wides': '0'},\n",
       "    {'maidens': '0',\n",
       "     'name': 'Mehidy Hasan',\n",
       "     'nballs': '0',\n",
       "     'overs': '6.1',\n",
       "     'runs': '32',\n",
       "     'wickets': '1',\n",
       "     'wides': '0'},\n",
       "    {'maidens': '0',\n",
       "     'name': 'Mustafizur',\n",
       "     'nballs': '0',\n",
       "     'overs': '5',\n",
       "     'runs': '29',\n",
       "     'wickets': '0',\n",
       "     'wides': '1'},\n",
       "    {'maidens': '0',\n",
       "     'name': 'Shakib',\n",
       "     'nballs': '0',\n",
       "     'overs': '9',\n",
       "     'runs': '42',\n",
       "     'wickets': '2',\n",
       "     'wides': '0'},\n",
       "    {'maidens': '0',\n",
       "     'name': 'Saifuddin',\n",
       "     'nballs': '0',\n",
       "     'overs': '4',\n",
       "     'runs': '19',\n",
       "     'wickets': '0',\n",
       "     'wides': '1'},\n",
       "    {'maidens': '0',\n",
       "     'name': 'Mosaddek Hossain',\n",
       "     'nballs': '0',\n",
       "     'overs': '3',\n",
       "     'runs': '13',\n",
       "     'wickets': '0',\n",
       "     'wides': '0'}],\n",
       "   'bowlteam': 'Bangladesh',\n",
       "   'extras': {'byes': '0',\n",
       "    'lbyes': '0',\n",
       "    'nballs': '0',\n",
       "    'penalty': '0',\n",
       "    'total': '2',\n",
       "    'wides': '2'},\n",
       "   'fall_wickets': [{'name': 'Guptill',\n",
       "     'overs': '5.1',\n",
       "     'score': '35',\n",
       "     'wkt_num': '1'},\n",
       "    {'name': 'Munro', 'overs': '9.6', 'score': '55', 'wkt_num': '2'},\n",
       "    {'name': 'Williamson', 'overs': '31.1', 'score': '160', 'wkt_num': '3'}],\n",
       "   'inng_num': '2',\n",
       "   'overs': '31.1',\n",
       "   'runs': '160',\n",
       "   'wickets': '3'},\n",
       "  {'batcard': [{'balls': '38',\n",
       "     'dismissal': 'c Boult b Lockie Ferguson',\n",
       "     'fours': '3',\n",
       "     'name': 'Tamim',\n",
       "     'runs': '24',\n",
       "     'six': '0'},\n",
       "    {'balls': '25',\n",
       "     'dismissal': 'b Matt Henry',\n",
       "     'fours': '3',\n",
       "     'name': 'Soumya Sarkar',\n",
       "     'runs': '25',\n",
       "     'six': '0'},\n",
       "    {'balls': '68',\n",
       "     'dismissal': 'c Latham b de Grandhomme',\n",
       "     'fours': '7',\n",
       "     'name': 'Shakib',\n",
       "     'runs': '64',\n",
       "     'six': '0'},\n",
       "    {'balls': '35',\n",
       "     'dismissal': 'run out (Guptill/Latham)',\n",
       "     'fours': '2',\n",
       "     'name': 'Rahim',\n",
       "     'runs': '19',\n",
       "     'six': '0'},\n",
       "    {'balls': '33',\n",
       "     'dismissal': 'c de Grandhomme b Matt Henry',\n",
       "     'fours': '3',\n",
       "     'name': 'Mithun',\n",
       "     'runs': '26',\n",
       "     'six': '0'},\n",
       "    {'balls': '41',\n",
       "     'dismissal': 'c Williamson b Santner',\n",
       "     'fours': '0',\n",
       "     'name': 'Mahmudullah',\n",
       "     'runs': '20',\n",
       "     'six': '0'},\n",
       "    {'balls': '22',\n",
       "     'dismissal': 'c Guptill b Boult',\n",
       "     'fours': '0',\n",
       "     'name': 'Mosaddek Hossain',\n",
       "     'runs': '11',\n",
       "     'six': '0'},\n",
       "    {'balls': '23',\n",
       "     'dismissal': 'b Matt Henry',\n",
       "     'fours': '3',\n",
       "     'name': 'Saifuddin',\n",
       "     'runs': '29',\n",
       "     'six': '1'},\n",
       "    {'balls': '9',\n",
       "     'dismissal': 'c Latham b Boult',\n",
       "     'fours': '0',\n",
       "     'name': 'Mehidy Hasan',\n",
       "     'runs': '7',\n",
       "     'six': '0'},\n",
       "    {'balls': '2',\n",
       "     'dismissal': 'c Boult b Matt Henry',\n",
       "     'fours': '0',\n",
       "     'name': 'Mortaza',\n",
       "     'runs': '1',\n",
       "     'six': '0'},\n",
       "    {'balls': '0',\n",
       "     'dismissal': 'not out',\n",
       "     'fours': '0',\n",
       "     'name': 'Mustafizur',\n",
       "     'runs': '0',\n",
       "     'six': '0'}],\n",
       "   'batteam': 'Bangladesh',\n",
       "   'bowlcard': [{'maidens': '0',\n",
       "     'name': 'Matt Henry',\n",
       "     'nballs': '0',\n",
       "     'overs': '9.2',\n",
       "     'runs': '47',\n",
       "     'wickets': '4',\n",
       "     'wides': '1'},\n",
       "    {'maidens': '0',\n",
       "     'name': 'Boult',\n",
       "     'nballs': '0',\n",
       "     'overs': '10',\n",
       "     'runs': '44',\n",
       "     'wickets': '2',\n",
       "     'wides': '1'},\n",
       "    {'maidens': '0',\n",
       "     'name': 'Ferguson',\n",
       "     'nballs': '0',\n",
       "     'overs': '10',\n",
       "     'runs': '40',\n",
       "     'wickets': '1',\n",
       "     'wides': '5'},\n",
       "    {'maidens': '0',\n",
       "     'name': 'de Grandhomme',\n",
       "     'nballs': '0',\n",
       "     'overs': '8',\n",
       "     'runs': '39',\n",
       "     'wickets': '1',\n",
       "     'wides': '1'},\n",
       "    {'maidens': '0',\n",
       "     'name': 'Neesham',\n",
       "     'nballs': '0',\n",
       "     'overs': '2',\n",
       "     'runs': '24',\n",
       "     'wickets': '0',\n",
       "     'wides': '1'},\n",
       "    {'maidens': '1',\n",
       "     'name': 'Santner',\n",
       "     'nballs': '0',\n",
       "     'overs': '10',\n",
       "     'runs': '41',\n",
       "     'wickets': '1',\n",
       "     'wides': '0'}],\n",
       "   'bowlteam': 'New Zealand',\n",
       "   'extras': {'byes': '1',\n",
       "    'lbyes': '8',\n",
       "    'nballs': '0',\n",
       "    'penalty': '0',\n",
       "    'total': '18',\n",
       "    'wides': '9'},\n",
       "   'fall_wickets': [{'name': 'Soumya Sarkar',\n",
       "     'overs': '8.3',\n",
       "     'score': '45',\n",
       "     'wkt_num': '1'},\n",
       "    {'name': 'Tamim', 'overs': '13.2', 'score': '60', 'wkt_num': '2'},\n",
       "    {'name': 'Rahim', 'overs': '23.5', 'score': '110', 'wkt_num': '3'},\n",
       "    {'name': 'Shakib', 'overs': '30.2', 'score': '151', 'wkt_num': '4'},\n",
       "    {'name': 'Mithun', 'overs': '37.1', 'score': '179', 'wkt_num': '5'},\n",
       "    {'name': 'Mahmudullah', 'overs': '42.3', 'score': '197', 'wkt_num': '6'},\n",
       "    {'name': 'Mosaddek Hossain',\n",
       "     'overs': '46.2',\n",
       "     'score': '224',\n",
       "     'wkt_num': '7'},\n",
       "    {'name': 'Mehidy Hasan', 'overs': '48.2', 'score': '235', 'wkt_num': '8'},\n",
       "    {'name': 'Mortaza', 'overs': '49.1', 'score': '244', 'wkt_num': '9'},\n",
       "    {'name': 'Saifuddin', 'overs': '49.2', 'score': '244', 'wkt_num': '10'}],\n",
       "   'inng_num': '1',\n",
       "   'overs': '49.2',\n",
       "   'runs': '244',\n",
       "   'wickets': '10'}]}"
      ]
     },
     "execution_count": 23,
     "metadata": {},
     "output_type": "execute_result"
    }
   ],
   "source": [
    "c.scorecard(match_id)"
   ]
  },
  {
   "cell_type": "code",
   "execution_count": null,
   "metadata": {
    "collapsed": true
   },
   "outputs": [],
   "source": []
  }
 ],
 "metadata": {
  "kernelspec": {
   "display_name": "Python 3",
   "language": "python",
   "name": "python3"
  },
  "language_info": {
   "codemirror_mode": {
    "name": "ipython",
    "version": 3
   },
   "file_extension": ".py",
   "mimetype": "text/x-python",
   "name": "python",
   "nbconvert_exporter": "python",
   "pygments_lexer": "ipython3",
   "version": "3.6.2"
  }
 },
 "nbformat": 4,
 "nbformat_minor": 2
}
