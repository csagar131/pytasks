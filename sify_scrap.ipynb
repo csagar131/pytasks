{
 "cells": [
  {
   "cell_type": "code",
   "execution_count": null,
   "metadata": {},
   "outputs": [],
   "source": [
    "from bs4 import BeautifulSoup\n",
    "import requests"
   ]
  },
  {
   "cell_type": "code",
   "execution_count": null,
   "metadata": {
    "collapsed": true
   },
   "outputs": [],
   "source": [
    "page = requests.get('http://scores.sify.com/?ref=deskcric')"
   ]
  },
  {
   "cell_type": "code",
   "execution_count": null,
   "metadata": {
    "collapsed": true
   },
   "outputs": [],
   "source": [
    "soup = BeautifulSoup(page.content,'html.parser')"
   ]
  },
  {
   "cell_type": "code",
   "execution_count": null,
   "metadata": {},
   "outputs": [],
   "source": [
    "match_name=soup.find_all('a',{'class':'scroll'})[0].string\n",
    "match_name"
   ]
  },
  {
   "cell_type": "code",
   "execution_count": null,
   "metadata": {},
   "outputs": [],
   "source": [
    "match_location=soup.select_one('div.scoresbox-center span').string\n",
    "match_location"
   ]
  },
  {
   "cell_type": "code",
   "execution_count": null,
   "metadata": {},
   "outputs": [],
   "source": [
    "# finding team 1 name\n",
    "live_match_link=soup.select_one('div.scoresbox-center h2 a').attrs.get('href')\n",
    "live_match_link"
   ]
  },
  {
   "cell_type": "code",
   "execution_count": null,
   "metadata": {},
   "outputs": [],
   "source": [
    "page_curr_match = requests.get(live_match_link)\n",
    "soup_live = BeautifulSoup(page_curr_match.content,'html.parser')"
   ]
  },
  {
   "cell_type": "code",
   "execution_count": null,
   "metadata": {},
   "outputs": [],
   "source": [
    "teams_info=soup_live.find_all('div',{'class':'team-live'})[0].find('h1').string\n",
    "teams_info"
   ]
  },
  {
   "cell_type": "code",
   "execution_count": null,
   "metadata": {},
   "outputs": [],
   "source": [
    "soup_live.find_all('div',{'class':'team-live'})[0]"
   ]
  },
  {
   "cell_type": "code",
   "execution_count": null,
   "metadata": {},
   "outputs": [],
   "source": [
    "items=soup_live.find_all('div',{'class':'team-live'},recursive=True)[0]\n",
    "# you need to extract vanue here"
   ]
  },
  {
   "cell_type": "code",
   "execution_count": null,
   "metadata": {},
   "outputs": [],
   "source": [
    "soup_live.find_all('div',{'class':'team-live'},recursive=True)[0]"
   ]
  },
  {
   "cell_type": "code",
   "execution_count": null,
   "metadata": {},
   "outputs": [],
   "source": [
    "for i in items:\n",
    "    print(i)\n",
    "    print('--------------------')"
   ]
  },
  {
   "cell_type": "code",
   "execution_count": null,
   "metadata": {},
   "outputs": [],
   "source": [
    "bat_team_info=soup_live.select_one('div.team-live-venue h2').string\n",
    "bat_team_info"
   ]
  },
  {
   "cell_type": "code",
   "execution_count": null,
   "metadata": {},
   "outputs": [],
   "source": [
    "bat_team_name=''\n",
    "bat_team_run=''\n",
    "for i in bat_team_info:\n",
    "    if i is not ' ':\n",
    "        bat_team_name = bat_team_name + i\n",
    "    else:\n",
    "        break\n",
    "\n",
    "bat_team_name"
   ]
  },
  {
   "cell_type": "code",
   "execution_count": null,
   "metadata": {},
   "outputs": [],
   "source": [
    "bat_team_run=''\n",
    "for i in range(0,len(bat_team_info)):\n",
    "    if bat_team_info[i] is ' ':\n",
    "        for j in range(i+1,len(bat_team_info)):\n",
    "            bat_team_run = bat_team_run + bat_team_info[j]\n",
    "bat_team_run"
   ]
  },
  {
   "cell_type": "code",
   "execution_count": null,
   "metadata": {},
   "outputs": [],
   "source": [
    "# run rat and needs that run to win the match\n",
    "target_split=soup_live.find_all('div',{'class':'team-live-venue'})[0].find('p').string.split('|')\n",
    "target=target_split[1]\n",
    "target"
   ]
  },
  {
   "cell_type": "code",
   "execution_count": null,
   "metadata": {},
   "outputs": [],
   "source": [
    "# finding the team1 members\n",
    "team1_finder=soup_live.find_all('div',{'id':'team1'})[0].find_all('ul')\n",
    "team1_finder"
   ]
  },
  {
   "cell_type": "code",
   "execution_count": null,
   "metadata": {},
   "outputs": [],
   "source": [
    "#team1_finder[0].find_all('li')"
   ]
  },
  {
   "cell_type": "code",
   "execution_count": null,
   "metadata": {},
   "outputs": [],
   "source": [
    "team1_squad=[]\n",
    "for i in team1_finder[0].find_all('li'):\n",
    "    team1_squad.append(i.find_all('a')[0].string)\n",
    "team1_squad"
   ]
  },
  {
   "cell_type": "code",
   "execution_count": null,
   "metadata": {},
   "outputs": [],
   "source": [
    "# finding the team1 members\n",
    "team2_finder=soup_live.find_all('div',{'id':'team2'})[0].find_all('ul')\n",
    "team2_finder"
   ]
  },
  {
   "cell_type": "code",
   "execution_count": null,
   "metadata": {},
   "outputs": [],
   "source": [
    "team2_squad=[]\n",
    "for i in team2_finder[0].find_all('li'):\n",
    "    team2_squad.append(i.find_all('a')[0].string)\n",
    "team2_squad"
   ]
  },
  {
   "cell_type": "code",
   "execution_count": null,
   "metadata": {
    "collapsed": true
   },
   "outputs": [],
   "source": []
  }
 ],
 "metadata": {
  "kernelspec": {
   "display_name": "Python 3",
   "language": "python",
   "name": "python3"
  },
  "language_info": {
   "codemirror_mode": {
    "name": "ipython",
    "version": 3
   },
   "file_extension": ".py",
   "mimetype": "text/x-python",
   "name": "python",
   "nbconvert_exporter": "python",
   "pygments_lexer": "ipython3",
   "version": "3.6.2"
  }
 },
 "nbformat": 4,
 "nbformat_minor": 2
}
