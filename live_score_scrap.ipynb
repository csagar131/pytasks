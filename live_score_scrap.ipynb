{
 "cells": [
  {
   "cell_type": "code",
   "execution_count": 102,
   "metadata": {
    "collapsed": true
   },
   "outputs": [],
   "source": [
    "from bs4 import BeautifulSoup\n",
    "import requests"
   ]
  },
  {
   "cell_type": "code",
   "execution_count": 114,
   "metadata": {
    "collapsed": true
   },
   "outputs": [],
   "source": [
    "# main website from where to scrap the data\n",
    "page = requests.get(\"http://www.espncricinfo.com/scores\")\n",
    "list_teams=[]"
   ]
  },
  {
   "cell_type": "code",
   "execution_count": 115,
   "metadata": {
    "collapsed": true
   },
   "outputs": [],
   "source": [
    "soup = BeautifulSoup(page.content,'html.parser')"
   ]
  },
  {
   "cell_type": "code",
   "execution_count": 116,
   "metadata": {},
   "outputs": [],
   "source": [
    "list_link=soup.find_all('a',{'class':'cscore_details'})[0]"
   ]
  },
  {
   "cell_type": "code",
   "execution_count": 117,
   "metadata": {},
   "outputs": [
    {
     "data": {
      "text/plain": [
       "'http://www.espncricinfo.com/series/8039/game/1144489/afghanistan-vs-sri-lanka-7th-match-icc-cricket-world-cup-2019'"
      ]
     },
     "execution_count": 117,
     "metadata": {},
     "output_type": "execute_result"
    }
   ],
   "source": [
    "# # getting the link page of the current team playing\n",
    "link_main=list_link.attrs['href']\n",
    "link_main"
   ]
  },
  {
   "cell_type": "code",
   "execution_count": 118,
   "metadata": {},
   "outputs": [],
   "source": [
    "# getting the html page of the current team playing\n",
    "team_page = requests.get(link_main)\n",
    "team_soup = BeautifulSoup(team_page.content,'html.parser')"
   ]
  },
  {
   "cell_type": "code",
   "execution_count": 129,
   "metadata": {},
   "outputs": [
    {
     "data": {
      "text/plain": [
       "'201'"
      ]
     },
     "execution_count": 129,
     "metadata": {},
     "output_type": "execute_result"
    }
   ],
   "source": [
    "# scraping the link of team 1\n",
    "team1_link_find=team_soup.find_all('a',{'data-uid':'s:200~t:8'})[0]\n",
    "team1_link=team1_link_find.attrs['href']                                 #'http://www.espncricinfo.com/team/_/id/8/sri-lanka'\n",
    "team1_score=team_soup.find_all('div',{'class':'cscore_score'})[0]\n",
    "team1_score.text       #team1 score"
   ]
  },
  {
   "cell_type": "code",
   "execution_count": 109,
   "metadata": {},
   "outputs": [],
   "source": [
    "#for getting the current team playing team1\n",
    "team1 = requests.get(team1_link)\n",
    "soup_team1 = BeautifulSoup(team1.content,'html.parser')\n",
    "team1_name = soup_team1.find_all('span',{'class':'ClubhouseHeader__DisplayName'})[0]\n",
    "list_teams.append(team1_name.string)"
   ]
  },
  {
   "cell_type": "code",
   "execution_count": 131,
   "metadata": {},
   "outputs": [
    {
     "data": {
      "text/plain": [
       "'Current Run RateCRR4.5Required Run RateRRR4.72Last 5 Ov (Run Rate)Last 5 Ov (RR)13/1 (2.60)'"
      ]
     },
     "execution_count": 131,
     "metadata": {},
     "output_type": "execute_result"
    }
   ],
   "source": [
    "# scraping the link of team 2\n",
    "team2_link_find=team_soup.find_all('a',{'data-uid':'s:200~t:40'})[0]\n",
    "team2_link=team2_link_find.attrs['href']                                 #http://www.espncricinfo.com/team/_/id/40/afghanistan\n",
    "team2_score=team_soup.find_all('div',{'data-reactid':'131'})[0]\n",
    "team2_score.text          #give the score of the team2"
   ]
  },
  {
   "cell_type": "code",
   "execution_count": 112,
   "metadata": {},
   "outputs": [],
   "source": [
    "##for getting the current team playing team2\n",
    "team2 = requests.get(team2_link)\n",
    "soup_team2 = BeautifulSoup(team2.content,'html.parser')\n",
    "team2_name = soup_team2.find_all('span',{'class':'ClubhouseHeader__DisplayName'})[0]\n",
    "list_teams.append(team2_name.string)"
   ]
  },
  {
   "cell_type": "code",
   "execution_count": 113,
   "metadata": {},
   "outputs": [
    {
     "data": {
      "text/plain": [
       "['Sri Lanka', 'Afghanistan']"
      ]
     },
     "execution_count": 113,
     "metadata": {},
     "output_type": "execute_result"
    }
   ],
   "source": [
    "list_teams         # team1 vs team2  data is stored in the list"
   ]
  },
  {
   "cell_type": "code",
   "execution_count": null,
   "metadata": {
    "collapsed": true
   },
   "outputs": [],
   "source": []
  }
 ],
 "metadata": {
  "kernelspec": {
   "display_name": "Python 3",
   "language": "python",
   "name": "python3"
  },
  "language_info": {
   "codemirror_mode": {
    "name": "ipython",
    "version": 3
   },
   "file_extension": ".py",
   "mimetype": "text/x-python",
   "name": "python",
   "nbconvert_exporter": "python",
   "pygments_lexer": "ipython3",
   "version": "3.6.2"
  }
 },
 "nbformat": 4,
 "nbformat_minor": 2
}
