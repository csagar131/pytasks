{
 "cells": [
  {
   "cell_type": "code",
   "execution_count": 1,
   "metadata": {
    "collapsed": true
   },
   "outputs": [],
   "source": [
    "from bs4 import BeautifulSoup\n",
    "import requests"
   ]
  },
  {
   "cell_type": "code",
   "execution_count": 2,
   "metadata": {},
   "outputs": [],
   "source": [
    "page = requests.get('http://scores.sify.com/?ref=deskcric')"
   ]
  },
  {
   "cell_type": "code",
   "execution_count": 3,
   "metadata": {
    "collapsed": true
   },
   "outputs": [],
   "source": [
    "soup = BeautifulSoup(page.content,'html.parser')"
   ]
  },
  {
   "cell_type": "code",
   "execution_count": 4,
   "metadata": {},
   "outputs": [
    {
     "data": {
      "text/plain": [
       "'ICC Cricket World Cup, 2019'"
      ]
     },
     "execution_count": 4,
     "metadata": {},
     "output_type": "execute_result"
    }
   ],
   "source": [
    "match_name=soup.find_all('a',{'class':'scroll'})[0].string\n",
    "match_name"
   ]
  },
  {
   "cell_type": "code",
   "execution_count": 5,
   "metadata": {},
   "outputs": [
    {
     "data": {
      "text/plain": [
       "'Match 14 The Oval, London 09 June 2019'"
      ]
     },
     "execution_count": 5,
     "metadata": {},
     "output_type": "execute_result"
    }
   ],
   "source": [
    "match_location=soup.select_one('div.scoresbox-center span').string\n",
    "match_location"
   ]
  },
  {
   "cell_type": "code",
   "execution_count": 6,
   "metadata": {},
   "outputs": [
    {
     "data": {
      "text/plain": [
       "'http://scores.sify.com/live-cricket-scores/ICC-Cricket-World-Cup-2019/INDIA_vs_AUSTRALIA_JUN09_2019.shtml'"
      ]
     },
     "execution_count": 6,
     "metadata": {},
     "output_type": "execute_result"
    }
   ],
   "source": [
    "# finding team 1 name\n",
    "live_match_link=soup.select_one('div.scoresbox-center h2 a').attrs.get('href')\n",
    "live_match_link"
   ]
  },
  {
   "cell_type": "code",
   "execution_count": 7,
   "metadata": {
    "collapsed": true
   },
   "outputs": [],
   "source": [
    "page_curr_match = requests.get(live_match_link)\n",
    "soup_live = BeautifulSoup(page_curr_match.content,'html.parser')"
   ]
  },
  {
   "cell_type": "code",
   "execution_count": 8,
   "metadata": {},
   "outputs": [
    {
     "data": {
      "text/plain": [
       "'India vs Australia - Match 14'"
      ]
     },
     "execution_count": 8,
     "metadata": {},
     "output_type": "execute_result"
    }
   ],
   "source": [
    "teams_info=soup_live.find_all('div',{'class':'team-live'})[0].find('h1').string\n",
    "teams_info"
   ]
  },
  {
   "cell_type": "code",
   "execution_count": 9,
   "metadata": {},
   "outputs": [
    {
     "data": {
      "text/plain": [
       "<div class=\"team-live\"><p>ICC Cricket World Cup, 2019</p><h1>India vs Australia - Match 14</h1><p>Venue: The Oval, London</p><p> Date &amp; Time:  09 June 2019</p><div class=\"team-live-venue\" id=\"headTeamScore\"><h2>India 352/5</h2><p>RR: 7.04 | \n",
       "    </p><div class=\"clearfix\"></div></div></div>"
      ]
     },
     "execution_count": 9,
     "metadata": {},
     "output_type": "execute_result"
    }
   ],
   "source": [
    "soup_live.find_all('div',{'class':'team-live'})[0]"
   ]
  },
  {
   "cell_type": "code",
   "execution_count": 10,
   "metadata": {
    "collapsed": true
   },
   "outputs": [],
   "source": [
    "items=soup_live.find_all('div',{'class':'team-live'},recursive=True)[0]\n",
    "# you need to extract vanue here"
   ]
  },
  {
   "cell_type": "code",
   "execution_count": 11,
   "metadata": {},
   "outputs": [
    {
     "data": {
      "text/plain": [
       "<div class=\"team-live\"><p>ICC Cricket World Cup, 2019</p><h1>India vs Australia - Match 14</h1><p>Venue: The Oval, London</p><p> Date &amp; Time:  09 June 2019</p><div class=\"team-live-venue\" id=\"headTeamScore\"><h2>India 352/5</h2><p>RR: 7.04 | \n",
       "    </p><div class=\"clearfix\"></div></div></div>"
      ]
     },
     "execution_count": 11,
     "metadata": {},
     "output_type": "execute_result"
    }
   ],
   "source": [
    "soup_live.find_all('div',{'class':'team-live'},recursive=True)[0]"
   ]
  },
  {
   "cell_type": "code",
   "execution_count": 12,
   "metadata": {},
   "outputs": [
    {
     "name": "stdout",
     "output_type": "stream",
     "text": [
      "<p>ICC Cricket World Cup, 2019</p>\n",
      "--------------------\n",
      "<h1>India vs Australia - Match 14</h1>\n",
      "--------------------\n",
      "<p>Venue: The Oval, London</p>\n",
      "--------------------\n",
      "<p> Date &amp; Time:  09 June 2019</p>\n",
      "--------------------\n",
      "<div class=\"team-live-venue\" id=\"headTeamScore\"><h2>India 352/5</h2><p>RR: 7.04 | \r\n",
      "    </p><div class=\"clearfix\"></div></div>\n",
      "--------------------\n"
     ]
    }
   ],
   "source": [
    "for i in items:\n",
    "    print(i)\n",
    "    print('--------------------')"
   ]
  },
  {
   "cell_type": "code",
   "execution_count": 13,
   "metadata": {},
   "outputs": [
    {
     "data": {
      "text/plain": [
       "'India 352/5'"
      ]
     },
     "execution_count": 13,
     "metadata": {},
     "output_type": "execute_result"
    }
   ],
   "source": [
    "bat_team_info=soup_live.select_one('div.team-live-venue h2').string\n",
    "bat_team_info"
   ]
  },
  {
   "cell_type": "code",
   "execution_count": 14,
   "metadata": {},
   "outputs": [
    {
     "data": {
      "text/plain": [
       "'India'"
      ]
     },
     "execution_count": 14,
     "metadata": {},
     "output_type": "execute_result"
    }
   ],
   "source": [
    "bat_team_name=''\n",
    "bat_team_run=''\n",
    "for i in bat_team_info:\n",
    "    if i is not ' ':\n",
    "        bat_team_name = bat_team_name + i\n",
    "    else:\n",
    "        break\n",
    "\n",
    "bat_team_name"
   ]
  },
  {
   "cell_type": "code",
   "execution_count": 15,
   "metadata": {},
   "outputs": [
    {
     "data": {
      "text/plain": [
       "'352/5'"
      ]
     },
     "execution_count": 15,
     "metadata": {},
     "output_type": "execute_result"
    }
   ],
   "source": [
    "bat_team_run=''\n",
    "for i in range(0,len(bat_team_info)):\n",
    "    if bat_team_info[i] is ' ':\n",
    "        for j in range(i+1,len(bat_team_info)):\n",
    "            bat_team_run = bat_team_run + bat_team_info[j]\n",
    "bat_team_run"
   ]
  },
  {
   "cell_type": "code",
   "execution_count": 16,
   "metadata": {},
   "outputs": [
    {
     "name": "stdout",
     "output_type": "stream",
     "text": [
      " \r\n",
      "    \n"
     ]
    }
   ],
   "source": [
    "# run rat and needs that run to win the match\n",
    "try:\n",
    "    target_split=soup_live.find_all('div',{'class':'team-live-venue'})[0].find('p').string.split('|')\n",
    "    target=target_split[1]\n",
    "    print(target)\n",
    "except:\n",
    "    print('Match yet to start')"
   ]
  },
  {
   "cell_type": "code",
   "execution_count": 17,
   "metadata": {},
   "outputs": [
    {
     "data": {
      "text/plain": [
       "[<ul><li><a href=\"http://scores.sify.com/match/player_profiles/kedar_jadhav.shtml\">Kedar Jadhav</a></li><li><a href=\"http://scores.sify.com/match/player_profiles/rohit_sharma.shtml\">Rohit Sharma</a></li><li><a href=\"http://scores.sify.com/match/player_profiles/shikhar_dhawan.shtml\">Shikhar Dhawan</a></li><li><a href=\"http://scores.sify.com/match/player_profiles/virat_kohli.shtml\">Virat Kohli</a></li><li><a href=\"http://scores.sify.com/match/player_profiles/hardik_pandya.shtml\">Hardik Pandya</a></li><li><a href=\"http://scores.sify.com/match/player_profiles/ravindra_jadeja.shtml\">Ravindra Jadeja</a></li><li><a href=\"http://scores.sify.com/match/player_profiles/vijay_shankar.shtml\">Vijay Shankar</a></li><li><a href=\"http://scores.sify.com/match/player_profiles/dinesh_karthik.shtml\">Dinesh Karthik</a></li><li><a href=\"http://scores.sify.com/match/player_profiles/kl_rahul.shtml\">KL Rahul</a></li><li><a href=\"http://scores.sify.com/match/player_profiles/ms_dhoni.shtml\">MS Dhoni</a></li><li><a href=\"http://scores.sify.com/match/player_profiles/bhuvneshwar_kumar.shtml\">Bhuvneshwar Kumar</a></li><li><a href=\"http://scores.sify.com/match/player_profiles/jasprit_bumrah.shtml\">Jasprit Bumrah</a></li><li><a href=\"http://scores.sify.com/match/player_profiles/kuldeep_yadav.shtml\">Kuldeep Yadav</a></li><li><a href=\"http://scores.sify.com/match/player_profiles/mohammed_shami.shtml\">Mohammed Shami</a></li><li><a href=\"http://scores.sify.com/match/player_profiles/yuzvendra_chahal.shtml\">Yuzvendra Chahal</a></li></ul>]"
      ]
     },
     "execution_count": 17,
     "metadata": {},
     "output_type": "execute_result"
    }
   ],
   "source": [
    "# finding the team1 members\n",
    "team1_finder=soup_live.find_all('div',{'id':'team1'})[0].find_all('ul')\n",
    "team1_finder"
   ]
  },
  {
   "cell_type": "code",
   "execution_count": 18,
   "metadata": {
    "collapsed": true
   },
   "outputs": [],
   "source": [
    "#team1_finder[0].find_all('li')"
   ]
  },
  {
   "cell_type": "code",
   "execution_count": 19,
   "metadata": {},
   "outputs": [
    {
     "data": {
      "text/plain": [
       "['Kedar Jadhav',\n",
       " 'Rohit Sharma',\n",
       " 'Shikhar Dhawan',\n",
       " 'Virat Kohli',\n",
       " 'Hardik Pandya',\n",
       " 'Ravindra Jadeja',\n",
       " 'Vijay Shankar',\n",
       " 'Dinesh Karthik',\n",
       " 'KL Rahul',\n",
       " 'MS Dhoni',\n",
       " 'Bhuvneshwar Kumar',\n",
       " 'Jasprit Bumrah',\n",
       " 'Kuldeep Yadav',\n",
       " 'Mohammed Shami',\n",
       " 'Yuzvendra Chahal']"
      ]
     },
     "execution_count": 19,
     "metadata": {},
     "output_type": "execute_result"
    }
   ],
   "source": [
    "team1_squad=[]\n",
    "for i in team1_finder[0].find_all('li'):\n",
    "    team1_squad.append(i.find_all('a')[0].string)\n",
    "team1_squad"
   ]
  },
  {
   "cell_type": "code",
   "execution_count": 20,
   "metadata": {},
   "outputs": [
    {
     "data": {
      "text/plain": [
       "[<ul><li><a href=\"http://scores.sify.com/match/player_profiles/aaron_finch.shtml\">Aaron Finch</a></li><li><a href=\"http://scores.sify.com/match/player_profiles/david_warner.shtml\">David Warner</a></li><li><a href=\"http://scores.sify.com/match/player_profiles/shaun_marsh.shtml\">Shaun Marsh</a></li><li><a href=\"http://scores.sify.com/match/player_profiles/steve_smith.shtml\">Steve Smith</a></li><li><a href=\"http://scores.sify.com/match/player_profiles/usman_khawaja.shtml\">Usman Khawaja</a></li><li><a href=\"http://scores.sify.com/match/player_profiles/glenn_maxwell.shtml\">Glenn Maxwell</a></li><li><a href=\"http://scores.sify.com/match/player_profiles/marcus_stoinis.shtml\">Marcus Stoinis</a></li><li><a href=\"http://scores.sify.com/match/player_profiles/alex_carey.shtml\">Alex Carey</a></li><li><a href=\"http://scores.sify.com/match/player_profiles/adam_zampa.shtml\">Adam Zampa</a></li><li><a href=\"http://scores.sify.com/match/player_profiles/jason_behrendorff.shtml\">Jason Behrendorff</a></li><li><a href=\"http://scores.sify.com/match/player_profiles/kane_richardson.shtml\">Kane Richardson</a></li><li><a href=\"http://scores.sify.com/match/player_profiles/mitchell_starc.shtml\">Mitchell Starc</a></li><li><a href=\"http://scores.sify.com/match/player_profiles/nathan_coulter-nile.shtml\">Nathan Coulter-Nile</a></li><li><a href=\"http://scores.sify.com/match/player_profiles/nathan_lyon.shtml\">Nathan Lyon</a></li><li><a href=\"http://scores.sify.com/match/player_profiles/pat_cummins.shtml\">Pat Cummins</a></li></ul>]"
      ]
     },
     "execution_count": 20,
     "metadata": {},
     "output_type": "execute_result"
    }
   ],
   "source": [
    "# finding the team2 members\n",
    "team2_finder=soup_live.find_all('div',{'id':'team2'})[0].find_all('ul')\n",
    "team2_finder"
   ]
  },
  {
   "cell_type": "code",
   "execution_count": 21,
   "metadata": {},
   "outputs": [
    {
     "data": {
      "text/plain": [
       "['Aaron Finch',\n",
       " 'David Warner',\n",
       " 'Shaun Marsh',\n",
       " 'Steve Smith',\n",
       " 'Usman Khawaja',\n",
       " 'Glenn Maxwell',\n",
       " 'Marcus Stoinis',\n",
       " 'Alex Carey',\n",
       " 'Adam Zampa',\n",
       " 'Jason Behrendorff',\n",
       " 'Kane Richardson',\n",
       " 'Mitchell Starc',\n",
       " 'Nathan Coulter-Nile',\n",
       " 'Nathan Lyon',\n",
       " 'Pat Cummins']"
      ]
     },
     "execution_count": 21,
     "metadata": {},
     "output_type": "execute_result"
    }
   ],
   "source": [
    "team2_squad=[]\n",
    "for i in team2_finder[0].find_all('li'):\n",
    "    team2_squad.append(i.find_all('a')[0].string)\n",
    "team2_squad"
   ]
  },
  {
   "cell_type": "code",
   "execution_count": 22,
   "metadata": {},
   "outputs": [],
   "source": [
    "over=soup.find_all('h3',{'id':'batteamnameruns1'})[0].text.split('(')[1].split(')')[0]"
   ]
  },
  {
   "cell_type": "code",
   "execution_count": 23,
   "metadata": {},
   "outputs": [
    {
     "data": {
      "text/plain": [
       "'Kedar Jadhav '"
      ]
     },
     "execution_count": 23,
     "metadata": {},
     "output_type": "execute_result"
    }
   ],
   "source": [
    "# batsman info\n",
    "batsman1=soup.find_all('h4',{'id':'batsmanbowlerdetails1'})[0].find_all('p')[0].find('a').string\n",
    "batsman1"
   ]
  },
  {
   "cell_type": "code",
   "execution_count": 24,
   "metadata": {},
   "outputs": [],
   "source": [
    "a=soup.find_all('h4',{'id':'batsmanbowlerdetails1'})[0].find_all('p')[0]"
   ]
  },
  {
   "cell_type": "code",
   "execution_count": 25,
   "metadata": {},
   "outputs": [
    {
     "ename": "IndexError",
     "evalue": "list index out of range",
     "output_type": "error",
     "traceback": [
      "\u001b[1;31m---------------------------------------------------------------------------\u001b[0m",
      "\u001b[1;31mIndexError\u001b[0m                                Traceback (most recent call last)",
      "\u001b[1;32m<ipython-input-25-6c8827c6276b>\u001b[0m in \u001b[0;36m<module>\u001b[1;34m()\u001b[0m\n\u001b[1;32m----> 1\u001b[1;33m \u001b[0mbatsman2\u001b[0m\u001b[1;33m=\u001b[0m\u001b[0mstr\u001b[0m\u001b[1;33m(\u001b[0m\u001b[0msoup\u001b[0m\u001b[1;33m.\u001b[0m\u001b[0mfind_all\u001b[0m\u001b[1;33m(\u001b[0m\u001b[1;34m'h4'\u001b[0m\u001b[1;33m,\u001b[0m\u001b[1;33m{\u001b[0m\u001b[1;34m'id'\u001b[0m\u001b[1;33m:\u001b[0m\u001b[1;34m'batsmanbowlerdetails1'\u001b[0m\u001b[1;33m}\u001b[0m\u001b[1;33m)\u001b[0m\u001b[1;33m[\u001b[0m\u001b[1;36m0\u001b[0m\u001b[1;33m]\u001b[0m\u001b[1;33m.\u001b[0m\u001b[0mfind_all\u001b[0m\u001b[1;33m(\u001b[0m\u001b[1;34m'p'\u001b[0m\u001b[1;33m)\u001b[0m\u001b[1;33m[\u001b[0m\u001b[1;36m0\u001b[0m\u001b[1;33m]\u001b[0m\u001b[1;33m)\u001b[0m\u001b[1;33m.\u001b[0m\u001b[0msplit\u001b[0m\u001b[1;33m(\u001b[0m\u001b[1;34m'|'\u001b[0m\u001b[1;33m)\u001b[0m\u001b[1;33m[\u001b[0m\u001b[1;36m1\u001b[0m\u001b[1;33m]\u001b[0m\u001b[1;33m.\u001b[0m\u001b[0msplit\u001b[0m\u001b[1;33m(\u001b[0m\u001b[1;34m'>'\u001b[0m\u001b[1;33m)\u001b[0m\u001b[1;33m[\u001b[0m\u001b[1;36m1\u001b[0m\u001b[1;33m]\u001b[0m\u001b[1;33m.\u001b[0m\u001b[0msplit\u001b[0m\u001b[1;33m(\u001b[0m\u001b[1;34m'<'\u001b[0m\u001b[1;33m)\u001b[0m\u001b[1;33m[\u001b[0m\u001b[1;36m0\u001b[0m\u001b[1;33m]\u001b[0m\u001b[1;33m\u001b[0m\u001b[0m\n\u001b[0m\u001b[0;32m      2\u001b[0m \u001b[0mbatsman2\u001b[0m\u001b[1;33m\u001b[0m\u001b[0m\n",
      "\u001b[1;31mIndexError\u001b[0m: list index out of range"
     ]
    }
   ],
   "source": [
    "try:\n",
    "    batsman2=str(soup.find_all('h4',{'id':'batsmanbowlerdetails1'})[0].find_all('p')[0]).split('|')[1].split('>')[1].split('<')[0]\n",
    "except:\n",
    "    batsman2='wait for match to start'"
   ]
  },
  {
   "cell_type": "code",
   "execution_count": null,
   "metadata": {},
   "outputs": [],
   "source": [
    "soup.find_all('div',{'class':'scoresbox-center'})[0].find_all('h2')[0]"
   ]
  },
  {
   "cell_type": "code",
   "execution_count": null,
   "metadata": {
    "collapsed": true
   },
   "outputs": [],
   "source": []
  }
 ],
 "metadata": {
  "kernelspec": {
   "display_name": "Python 3",
   "language": "python",
   "name": "python3"
  },
  "language_info": {
   "codemirror_mode": {
    "name": "ipython",
    "version": 3
   },
   "file_extension": ".py",
   "mimetype": "text/x-python",
   "name": "python",
   "nbconvert_exporter": "python",
   "pygments_lexer": "ipython3",
   "version": "3.6.2"
  }
 },
 "nbformat": 4,
 "nbformat_minor": 2
}
